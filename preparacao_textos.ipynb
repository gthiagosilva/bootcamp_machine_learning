{
  "nbformat": 4,
  "nbformat_minor": 0,
  "metadata": {
    "colab": {
      "name": "preparacao_textos.ipynb",
      "provenance": [],
      "include_colab_link": true
    },
    "kernelspec": {
      "name": "python3",
      "display_name": "Python 3"
    }
  },
  "cells": [
    {
      "cell_type": "markdown",
      "metadata": {
        "id": "view-in-github",
        "colab_type": "text"
      },
      "source": [
        "<a href=\"https://colab.research.google.com/github/gthiagosilva/bootcamp_machine_learning/blob/main/preparacao_textos.ipynb\" target=\"_parent\"><img src=\"https://colab.research.google.com/assets/colab-badge.svg\" alt=\"Open In Colab\"/></a>"
      ]
    },
    {
      "cell_type": "code",
      "metadata": {
        "id": "Zxswp_7dxPI8",
        "colab": {
          "base_uri": "https://localhost:8080/"
        },
        "outputId": "1f12dc8c-6704-4b9a-b561-06754fbcd790"
      },
      "source": [
        "#gerando as stopwords\n",
        "import nltk  #biblioteca para a análise de textos\n",
        "import numpy as np\n",
        "nltk.download('stopwords')\n",
        "nltk.download('punkt')\n",
        "from pprint import pprint  #biblioteca para realizar o \"print\" de forma mais amigável \"pretty-print\""
      ],
      "execution_count": 1,
      "outputs": [
        {
          "output_type": "stream",
          "text": [
            "[nltk_data] Downloading package stopwords to /root/nltk_data...\n",
            "[nltk_data]   Unzipping corpora/stopwords.zip.\n",
            "[nltk_data] Downloading package punkt to /root/nltk_data...\n",
            "[nltk_data]   Unzipping tokenizers/punkt.zip.\n"
          ],
          "name": "stdout"
        }
      ]
    },
    {
      "cell_type": "code",
      "metadata": {
        "id": "ooiskYxFNCZL",
        "colab": {
          "base_uri": "https://localhost:8080/"
        },
        "outputId": "05add06a-5015-454e-94c2-762add49529e"
      },
      "source": [
        "stopWordPortugues = nltk.corpus.stopwords.words('portuguese')\n",
        "#print(stopWordPortugues)\n",
        "print(np.transpose(stopWordPortugues))"
      ],
      "execution_count": 6,
      "outputs": [
        {
          "output_type": "stream",
          "text": [
            "['de' 'a' 'o' 'que' 'e' 'é' 'do' 'da' 'em' 'um' 'para' 'com' 'não' 'uma'\n",
            " 'os' 'no' 'se' 'na' 'por' 'mais' 'as' 'dos' 'como' 'mas' 'ao' 'ele' 'das'\n",
            " 'à' 'seu' 'sua' 'ou' 'quando' 'muito' 'nos' 'já' 'eu' 'também' 'só'\n",
            " 'pelo' 'pela' 'até' 'isso' 'ela' 'entre' 'depois' 'sem' 'mesmo' 'aos'\n",
            " 'seus' 'quem' 'nas' 'me' 'esse' 'eles' 'você' 'essa' 'num' 'nem' 'suas'\n",
            " 'meu' 'às' 'minha' 'numa' 'pelos' 'elas' 'qual' 'nós' 'lhe' 'deles'\n",
            " 'essas' 'esses' 'pelas' 'este' 'dele' 'tu' 'te' 'vocês' 'vos' 'lhes'\n",
            " 'meus' 'minhas' 'teu' 'tua' 'teus' 'tuas' 'nosso' 'nossa' 'nossos'\n",
            " 'nossas' 'dela' 'delas' 'esta' 'estes' 'estas' 'aquele' 'aquela'\n",
            " 'aqueles' 'aquelas' 'isto' 'aquilo' 'estou' 'está' 'estamos' 'estão'\n",
            " 'estive' 'esteve' 'estivemos' 'estiveram' 'estava' 'estávamos' 'estavam'\n",
            " 'estivera' 'estivéramos' 'esteja' 'estejamos' 'estejam' 'estivesse'\n",
            " 'estivéssemos' 'estivessem' 'estiver' 'estivermos' 'estiverem' 'hei' 'há'\n",
            " 'havemos' 'hão' 'houve' 'houvemos' 'houveram' 'houvera' 'houvéramos'\n",
            " 'haja' 'hajamos' 'hajam' 'houvesse' 'houvéssemos' 'houvessem' 'houver'\n",
            " 'houvermos' 'houverem' 'houverei' 'houverá' 'houveremos' 'houverão'\n",
            " 'houveria' 'houveríamos' 'houveriam' 'sou' 'somos' 'são' 'era' 'éramos'\n",
            " 'eram' 'fui' 'foi' 'fomos' 'foram' 'fora' 'fôramos' 'seja' 'sejamos'\n",
            " 'sejam' 'fosse' 'fôssemos' 'fossem' 'for' 'formos' 'forem' 'serei' 'será'\n",
            " 'seremos' 'serão' 'seria' 'seríamos' 'seriam' 'tenho' 'tem' 'temos' 'tém'\n",
            " 'tinha' 'tínhamos' 'tinham' 'tive' 'teve' 'tivemos' 'tiveram' 'tivera'\n",
            " 'tivéramos' 'tenha' 'tenhamos' 'tenham' 'tivesse' 'tivéssemos' 'tivessem'\n",
            " 'tiver' 'tivermos' 'tiverem' 'terei' 'terá' 'teremos' 'terão' 'teria'\n",
            " 'teríamos' 'teriam']\n"
          ],
          "name": "stdout"
        }
      ]
    },
    {
      "cell_type": "code",
      "metadata": {
        "id": "X0XjQ38tf3FO",
        "colab": {
          "base_uri": "https://localhost:8080/"
        },
        "outputId": "6eca87ee-3e79-4270-d0cb-594728b2f2b9"
      },
      "source": [
        "#gerando os tokens de sentenças\n",
        "sample_text=\"\"\" O menino gosta de jogar futebol aos finais de semana. \n",
        "Ele gosta de jogar com seus amigos Marcos e João, mas não gosta de brincar\n",
        "com a irmã Marcela\"\"\"\n",
        "tokenizacao_sentencas=nltk.sent_tokenize\n",
        "sample_sentence = tokenizacao_sentencas(text=sample_text)\n",
        "pprint(sample_sentence)"
      ],
      "execution_count": 7,
      "outputs": [
        {
          "output_type": "stream",
          "text": [
            "[' O menino gosta de jogar futebol aos finais de semana.',\n",
            " 'Ele gosta de jogar com seus amigos Marcos e João, mas não gosta de brincar\\n'\n",
            " 'com a irmã Marcela']\n"
          ],
          "name": "stdout"
        }
      ]
    },
    {
      "cell_type": "code",
      "metadata": {
        "id": "hq947qkkOpuN",
        "colab": {
          "base_uri": "https://localhost:8080/"
        },
        "outputId": "ff700f66-acb6-425b-c8b8-ced492fc2bd1"
      },
      "source": [
        "len(sample_sentence)"
      ],
      "execution_count": 8,
      "outputs": [
        {
          "output_type": "execute_result",
          "data": {
            "text/plain": [
              "2"
            ]
          },
          "metadata": {
            "tags": []
          },
          "execution_count": 8
        }
      ]
    },
    {
      "cell_type": "code",
      "metadata": {
        "id": "VZlivgR3g6EF",
        "colab": {
          "base_uri": "https://localhost:8080/"
        },
        "outputId": "ce4a117e-096d-44a6-8da9-61949be78bf1"
      },
      "source": [
        "#tokenização de palavras\n",
        "sample_sentence='O menino gosta de jogar futebol aos finais de semana.'\n",
        "tokenizacao_palavras=nltk.word_tokenize\n",
        "sample_words = tokenizacao_palavras(text=sample_sentence)\n",
        "pprint(sample_words)"
      ],
      "execution_count": 9,
      "outputs": [
        {
          "output_type": "stream",
          "text": [
            "['O',\n",
            " 'menino',\n",
            " 'gosta',\n",
            " 'de',\n",
            " 'jogar',\n",
            " 'futebol',\n",
            " 'aos',\n",
            " 'finais',\n",
            " 'de',\n",
            " 'semana',\n",
            " '.']\n"
          ],
          "name": "stdout"
        }
      ]
    },
    {
      "cell_type": "code",
      "metadata": {
        "id": "4GhT0e4qNX0u",
        "colab": {
          "base_uri": "https://localhost:8080/"
        },
        "outputId": "1a1b2ef8-13eb-47ed-b256-0fd1ad7a1179"
      },
      "source": [
        "#gerando as amostras de stem\n",
        "from nltk.stem import PorterStemmer  #stemização baseado no algoritmo de Porter\n",
        "from nltk.stem import RSLPStemmer #stemização para o português\n",
        "nltk.download('rslp')"
      ],
      "execution_count": 10,
      "outputs": [
        {
          "output_type": "stream",
          "text": [
            "[nltk_data] Downloading package rslp to /root/nltk_data...\n",
            "[nltk_data]   Unzipping stemmers/rslp.zip.\n"
          ],
          "name": "stdout"
        },
        {
          "output_type": "execute_result",
          "data": {
            "text/plain": [
              "True"
            ]
          },
          "metadata": {
            "tags": []
          },
          "execution_count": 10
        }
      ]
    },
    {
      "cell_type": "code",
      "metadata": {
        "id": "XYW4BWysQiyx",
        "colab": {
          "base_uri": "https://localhost:8080/"
        },
        "outputId": "05081eda-f3bf-410d-b51e-4d54bdb72290"
      },
      "source": [
        "#gerado stem através do nltk\n",
        "ps=PorterStemmer()\n",
        "stemmer =RSLPStemmer()\n",
        "\n",
        "print(ps.stem('jumping'))\n",
        "print(stemmer.stem('amoroso')) \n",
        "print(stemmer.stem('amorosa'))\n",
        "print(stemmer.stem('amados'))\n"
      ],
      "execution_count": 11,
      "outputs": [
        {
          "output_type": "stream",
          "text": [
            "jump\n",
            "amor\n",
            "amor\n",
            "am\n"
          ],
          "name": "stdout"
        }
      ]
    },
    {
      "cell_type": "code",
      "metadata": {
        "id": "BJDrwlnPQ0Qs",
        "colab": {
          "base_uri": "https://localhost:8080/"
        },
        "outputId": "ecaeaeae-d4e8-4197-b131-f8ea3fec40a0"
      },
      "source": [
        "from nltk.stem import SnowballStemmer   # mais indicado para a lingua portuguesa\n",
        "\n",
        "print('Linguagens suportadas %s',SnowballStemmer.languages)\n"
      ],
      "execution_count": 12,
      "outputs": [
        {
          "output_type": "stream",
          "text": [
            "Linguagens suportadas %s ('arabic', 'danish', 'dutch', 'english', 'finnish', 'french', 'german', 'hungarian', 'italian', 'norwegian', 'porter', 'portuguese', 'romanian', 'russian', 'spanish', 'swedish')\n"
          ],
          "name": "stdout"
        }
      ]
    },
    {
      "cell_type": "code",
      "metadata": {
        "id": "BZNfCX1KQ5P0",
        "colab": {
          "base_uri": "https://localhost:8080/"
        },
        "outputId": "c8bd5d3f-3221-44df-b33a-567b3c5fb2ab"
      },
      "source": [
        "ss = SnowballStemmer(\"portuguese\")\n",
        "print(ss.stem('casado'))\n",
        "print(ss.stem('casarão'))\n",
        "print(ss.stem('casa'))"
      ],
      "execution_count": 13,
      "outputs": [
        {
          "output_type": "stream",
          "text": [
            "cas\n",
            "cas\n",
            "cas\n"
          ],
          "name": "stdout"
        }
      ]
    },
    {
      "cell_type": "markdown",
      "metadata": {
        "id": "OZV1Kn5Ao2fF"
      },
      "source": [
        "---------------------**Exemplo Bag of Words ---------------------**\n"
      ]
    },
    {
      "cell_type": "code",
      "metadata": {
        "id": "_idIhbTZqNsV"
      },
      "source": [
        "sentenca=\"O IGTI oferece especializacao em Deep Learning. Deep Learning e utilizado em diversas aplicacoes. As aplicacoes de deep learning sao estudadas nesta especializacao. O IGTI tambem oferece bootcamp\"\n"
      ],
      "execution_count": 14,
      "outputs": []
    },
    {
      "cell_type": "code",
      "metadata": {
        "id": "jgmZh9ItwH24"
      },
      "source": [
        "#coloca toda a sentença em lowercase\n",
        "sentenca=sentenca.lower()"
      ],
      "execution_count": 15,
      "outputs": []
    },
    {
      "cell_type": "code",
      "metadata": {
        "id": "f3RxA_XMun_b",
        "colab": {
          "base_uri": "https://localhost:8080/"
        },
        "outputId": "36be110a-7477-40e7-cdee-170cb3ffdf6c"
      },
      "source": [
        "print(sentenca)"
      ],
      "execution_count": 16,
      "outputs": [
        {
          "output_type": "stream",
          "text": [
            "o igti oferece especializacao em deep learning. deep learning e utilizado em diversas aplicacoes. as aplicacoes de deep learning sao estudadas nesta especializacao. o igti tambem oferece bootcamp\n"
          ],
          "name": "stdout"
        }
      ]
    },
    {
      "cell_type": "code",
      "metadata": {
        "id": "8Ck6OBZzu0p9",
        "colab": {
          "base_uri": "https://localhost:8080/"
        },
        "outputId": "2b539daa-b608-48fb-da8e-c94112d08168"
      },
      "source": [
        "#tokenização de sentencas\n",
        "tokenizacao_sentencas=nltk.sent_tokenize\n",
        "sample_sentence = tokenizacao_sentencas(text=sentenca)\n",
        "pprint(sample_sentence)\n"
      ],
      "execution_count": 17,
      "outputs": [
        {
          "output_type": "stream",
          "text": [
            "['o igti oferece especializacao em deep learning.',\n",
            " 'deep learning e utilizado em diversas aplicacoes.',\n",
            " 'as aplicacoes de deep learning sao estudadas nesta especializacao.',\n",
            " 'o igti tambem oferece bootcamp']\n"
          ],
          "name": "stdout"
        }
      ]
    },
    {
      "cell_type": "code",
      "metadata": {
        "id": "aJx79fF7vmD_",
        "colab": {
          "base_uri": "https://localhost:8080/",
          "height": 35
        },
        "outputId": "2c76d63a-b8aa-4e97-9861-2670d8778baf"
      },
      "source": [
        "sample_sentence[0] #seleciona a primeira sentença"
      ],
      "execution_count": 18,
      "outputs": [
        {
          "output_type": "execute_result",
          "data": {
            "application/vnd.google.colaboratory.intrinsic+json": {
              "type": "string"
            },
            "text/plain": [
              "'o igti oferece especializacao em deep learning.'"
            ]
          },
          "metadata": {
            "tags": []
          },
          "execution_count": 18
        }
      ]
    },
    {
      "cell_type": "code",
      "metadata": {
        "id": "fPXCXPsPvkuv"
      },
      "source": [
        "#tokenização de palavras\n",
        "tokenizacao_palavras=nltk.word_tokenize\n",
        "list_words=[]\n",
        "for i in range(len(sample_sentence)):\n",
        "  sample_words = tokenizacao_palavras(text=sample_sentence[i])\n",
        "  list_words.extend(sample_words)\n"
      ],
      "execution_count": 19,
      "outputs": []
    },
    {
      "cell_type": "code",
      "metadata": {
        "id": "UMXwFa1Iw5a2",
        "colab": {
          "base_uri": "https://localhost:8080/"
        },
        "outputId": "ee9f0df3-b55c-495f-cf31-9ea0fbd2aae6"
      },
      "source": [
        "print(list_words)  #corpus a ser analisado"
      ],
      "execution_count": 20,
      "outputs": [
        {
          "output_type": "stream",
          "text": [
            "['o', 'igti', 'oferece', 'especializacao', 'em', 'deep', 'learning', '.', 'deep', 'learning', 'e', 'utilizado', 'em', 'diversas', 'aplicacoes', '.', 'as', 'aplicacoes', 'de', 'deep', 'learning', 'sao', 'estudadas', 'nesta', 'especializacao', '.', 'o', 'igti', 'tambem', 'oferece', 'bootcamp']\n"
          ],
          "name": "stdout"
        }
      ]
    },
    {
      "cell_type": "code",
      "metadata": {
        "id": "0yZEFwLNxdML"
      },
      "source": [
        "#tokeniza palavras\n",
        "def tokenizaPalavras(sentenca):\n",
        "  sample_words = tokenizacao_palavras(text=sentenca)\n",
        "  return sample_words\n",
        "\n",
        "\n",
        "#removendo stopwords e criando o BoW\n",
        "def removeStopWords(list_of_words):\n",
        "\n",
        "  my_stop_words=['o','em','as','de','sao','nesta','.','e','a','na','do'] # cria a lista de stopwords\n",
        "  list_cleaned=set(list_of_words)-set(my_stop_words)\n",
        "  return list_cleaned\n",
        "\n",
        "my_BoW=removeStopWords(list_words)"
      ],
      "execution_count": 21,
      "outputs": []
    },
    {
      "cell_type": "code",
      "metadata": {
        "id": "MVp7bYXm2aBS",
        "colab": {
          "base_uri": "https://localhost:8080/"
        },
        "outputId": "4279cb37-b30c-4085-fa3f-41d329c2defa"
      },
      "source": [
        "print(my_BoW)"
      ],
      "execution_count": 22,
      "outputs": [
        {
          "output_type": "stream",
          "text": [
            "{'utilizado', 'aplicacoes', 'diversas', 'especializacao', 'deep', 'igti', 'estudadas', 'oferece', 'tambem', 'learning', 'bootcamp'}\n"
          ],
          "name": "stdout"
        }
      ]
    },
    {
      "cell_type": "code",
      "metadata": {
        "id": "oz6-fmYP6xBX"
      },
      "source": [
        "#Cria o vetor que representa a sentenca na BoW \n",
        "def bagofwords(sentence, words):\n",
        "    sentence_words = tokenizaPalavras(sentence)\n",
        "    # conta a frequência de palavras que estão no vetor do BoW\n",
        "    bag = np.zeros(len(words))\n",
        "    for sw in sentence_words:\n",
        "        for i,word in enumerate(words):\n",
        "            if word == sw: \n",
        "                bag[i] += 1\n",
        "                \n",
        "    return np.array(bag)\n",
        "\n"
      ],
      "execution_count": 24,
      "outputs": []
    },
    {
      "cell_type": "code",
      "metadata": {
        "id": "vjDpTNr8SAMI",
        "colab": {
          "base_uri": "https://localhost:8080/"
        },
        "outputId": "7898018f-aaf6-4759-f99b-cfe9b0bbdb9e"
      },
      "source": [
        "sentenca_teste='o igti oferece especializacao em deep learning e o igti oferece bootcamp'\n",
        "print(bagofwords(sentenca_teste,my_BoW))"
      ],
      "execution_count": 25,
      "outputs": [
        {
          "output_type": "stream",
          "text": [
            "[0. 0. 0. 1. 1. 2. 0. 2. 0. 1. 1.]\n"
          ],
          "name": "stdout"
        }
      ]
    },
    {
      "cell_type": "code",
      "metadata": {
        "id": "CR9IGIR0k0DF"
      },
      "source": [
        ""
      ],
      "execution_count": null,
      "outputs": []
    }
  ]
}